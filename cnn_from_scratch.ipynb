{
 "cells": [
  {
   "cell_type": "markdown",
   "metadata": {},
   "source": [
    "# Convolutional Neural Networks\n",
    "\n",
    "## Project: Write an Algorithm for Landmark Classification\n",
    "\n",
    "\n",
    "### Introduction\n",
    "\n",
    "The project folder has the following structure:\n",
    "\n",
    "* In the main directory you have this notebook, `cnn_from_scratch.ipynb`, that contains the instruction and some questions you will have to answer. Follow this notebook and complete the required sections in order.\n",
    "\n",
    "* In the `src/` directory you have several source files. As instructed in this notebook, you will open and complete those files, then come back to this notebook to execute some tests that will verify what you have done. While these tests don't guarantee that your work is bug-free, they will help you finding the most obvious problems so you will be able to proceed to the next step with confidence.\n",
    "\n",
    "* Sometimes you will need to restart the notebook. If you do so, remember to execute also the cells containing the code you have already completed starting from the top, before you move on.\n",
    "\n",
    "> <img src=\"static_images/icons/noun-info-2558213.png\" alt=\"?\" style=\"width:25px\"/> Once you have completed all the code implementations, you need to finalize your work by exporting the Jupyter Notebook as an HTML document. Before exporting the notebook to HTML, all the code cells need to have been run so that reviewers can see the final implementation and output. You can then export the notebook by using the menu above and navigating to **File -> Download as -> HTML (.html)**. If you are using Jupyter Lab, you can use **File -> Export Notebook as -> Export Notebook to HTML**. Include the finished document along with this notebook as your submission.\n",
    "\n",
    "In addition to implementing code, there will be questions that you must answer which relate to the project and your implementation. Each section where you will answer a question is preceded by a **'Question'** header. Carefully read each question and provide thorough answers in the following text boxes that begin with **'Answer:'**. Your project submission will be evaluated based on your answers to each of the questions and the implementation you provide.\n",
    "\n",
    "> <img src=\"static_images/icons/noun-info-2558213.png\" alt=\"?\" style=\"width:25px\"/> Code and Markdown cells can be executed using the **Shift + Enter** keyboard shortcut.  Markdown cells can be edited by double-clicking the cell to enter edit mode.\n",
    "\n",
    "The rubric contains _optional_ \"Stand Out Suggestions\" for enhancing the project beyond the minimum requirements. If you decide to pursue the \"Stand Out Suggestions\", you should include the code in this Jupyter notebook.\n",
    "\n",
    "### Designing and training a CNN from scratch\n",
    "\n",
    "In this notebook, you will create a CNN that classifies landmarks.  You must create your CNN _from scratch_ (so, you can't use transfer learning _yet_!), and you must attain a test accuracy of at least 50%.\n",
    "\n",
    "Although 50% may seem low at first glance, it seems more reasonable after realizing how difficult of a problem this is. Many times, an image that is taken at a landmark captures a fairly mundane image of an animal or plant, like in the following picture.\n",
    "\n",
    "<img src=\"static_images/train/00.Haleakala_National_Park/084c2aa50d0a9249.jpg\" alt=\"Bird in Haleakalā National Park\" style=\"width: 400px;\"/>\n",
    "\n",
    "Just by looking at that image alone, would you have been able to guess that it was taken at the Haleakalā National Park in Hawaii?\n",
    "\n",
    "An accuracy of 50% is significantly better than random guessing, which would provide an accuracy of just 2% (100% / 50 classes). In Step 2 of this notebook, you will have the opportunity to greatly improve accuracy by using transfer learning to create a CNN.\n",
    "\n",
    "Experiment with different architectures, hyperparameters, training strategies, and trust your intuition.  And, of course, have fun!\n",
    "\n",
    "---\n",
    "## <img src=\"static_images/icons/noun-advance-2109145.png\" alt=\">\" style=\"width:50px\"/> Step 0: Setting up\n",
    "\n",
    "The following cells make sure that your environment is setup correctly, download the data if you don't have it already, and also check that your GPU is available and ready to go. You have to execute them every time you restart your notebook."
   ]
  },
  {
   "cell_type": "code",
   "execution_count": null,
   "metadata": {},
   "outputs": [],
   "source": [
    "# Install requirements\n",
    "!pip install -r requirements.txt | grep -v \"already satisfied\""
   ]
  },
  {
   "cell_type": "code",
   "execution_count": 2,
   "metadata": {},
   "outputs": [
    {
     "name": "stdout",
     "output_type": "stream",
     "text": [
      "GPU *NOT* available. Will use CPU (slow)\n",
      "Dataset already downloaded. If you need to re-download, please delete the directory landmark_images\n"
     ]
    },
    {
     "name": "stderr",
     "output_type": "stream",
     "text": [
      "Computing mean: 100%|██████████████████████| 6246/6246 [00:58<00:00, 106.70it/s]\n",
      "Computing std: 100%|███████████████████████| 6246/6246 [01:00<00:00, 103.56it/s]\n"
     ]
    }
   ],
   "source": [
    "from src.helpers import setup_env\n",
    "\n",
    "# If running locally, this will download dataset (make sure you have at \n",
    "# least 2 Gb of space on your hard drive)\n",
    "setup_env()"
   ]
  },
  {
   "cell_type": "code",
   "execution_count": 2,
   "metadata": {},
   "outputs": [
    {
     "name": "stdout",
     "output_type": "stream",
     "text": [
      "Requirement already satisfied: numpy in c:\\users\\swast\\appdata\\local\\packages\\pythonsoftwarefoundation.python.3.11_qbz5n2kfra8p0\\localcache\\local-packages\\python311\\site-packages (1.26.4)\n",
      "Collecting numpy\n",
      "  Using cached numpy-2.0.1-cp311-cp311-win_amd64.whl.metadata (60 kB)\n",
      "Using cached numpy-2.0.1-cp311-cp311-win_amd64.whl (16.6 MB)\n",
      "Installing collected packages: numpy\n",
      "  Attempting uninstall: numpy\n",
      "    Found existing installation: numpy 1.26.4\n",
      "    Uninstalling numpy-1.26.4:\n",
      "      Successfully uninstalled numpy-1.26.4\n",
      "Successfully installed numpy-2.0.1\n"
     ]
    },
    {
     "name": "stderr",
     "output_type": "stream",
     "text": [
      "ERROR: pip's dependency resolver does not currently take into account all the packages that are installed. This behaviour is the source of the following dependency conflicts.\n",
      "autogenstudio 0.0.56 requires numpy<2.0.0, but you have numpy 2.0.1 which is incompatible.\n",
      "langchain 0.2.2 requires numpy<2,>=1, but you have numpy 2.0.1 which is incompatible.\n",
      "langchain-community 0.2.2 requires numpy<2,>=1, but you have numpy 2.0.1 which is incompatible.\n",
      "pandas 2.2.1 requires numpy<2,>=1.23.2; python_version == \"3.11\", but you have numpy 2.0.1 which is incompatible.\n",
      "pyautogen 0.2.27 requires numpy<2,>=1.17.0, but you have numpy 2.0.1 which is incompatible.\n",
      "scikit-learn 1.4.1.post1 requires numpy<2.0,>=1.19.5, but you have numpy 2.0.1 which is incompatible.\n",
      "\n",
      "[notice] A new release of pip is available: 24.0 -> 24.1.2\n",
      "[notice] To update, run: C:\\Users\\swast\\AppData\\Local\\Microsoft\\WindowsApps\\PythonSoftwareFoundation.Python.3.11_qbz5n2kfra8p0\\python.exe -m pip install --upgrade pip\n"
     ]
    }
   ],
   "source": [
    "!pip install numpy --upgrade "
   ]
  },
  {
   "cell_type": "markdown",
   "metadata": {},
   "source": [
    "---\n",
    "## <img src=\"static_images/icons/noun-advance-2109145.png\" alt=\">\" style=\"width:50px\"/> Step 1: Data\n",
    "\n",
    "In this and the following steps we are going to complete some code, and then execute some tests to make sure the code works as intended. \n",
    "\n",
    "Open the file `src/data.py`. It contains a function called `get_data_loaders`. Read the function and complete all the parts marked by `YOUR CODE HERE`. Once you have finished, test that your implementation is correct by executing the following cell (see below for what to do if a test fails):"
   ]
  },
  {
   "cell_type": "code",
   "execution_count": 1,
   "metadata": {},
   "outputs": [
    {
     "name": "stdout",
     "output_type": "stream",
     "text": [
      "\u001b[1m============================= test session starts =============================\u001b[0m\n",
      "platform win32 -- Python 3.11.9, pytest-8.3.1, pluggy-1.5.0 -- D:\\Projects\\MacLea\\AWS_Scholarship\\starter-kit\\.venv\\Scripts\\python.exe\n",
      "cachedir: .pytest_cache\n",
      "rootdir: D:\\Projects\\MacLea\\AWS_Scholarship\\starter-kit\n",
      "plugins: anyio-4.4.0\n",
      "\u001b[1mcollecting ... \u001b[0mcollected 4 items / 1 deselected / 3 selected\n",
      "\n",
      "src/data.py::test_data_loaders_keys \u001b[32mPASSED\u001b[0m\u001b[33m                               [ 33%]\u001b[0m\n",
      "src/data.py::test_data_loaders_output_type \u001b[31mFAILED\u001b[0m\u001b[31m                        [ 66%]\u001b[0m\n",
      "src/data.py::test_data_loaders_output_shape \u001b[31mFAILED\u001b[0m\u001b[31m                       [100%]\u001b[0m\n",
      "\n",
      "================================== FAILURES ===================================\n",
      "\u001b[31m\u001b[1m________________________ test_data_loaders_output_type ________________________\u001b[0m\n",
      "\n",
      "data_loaders = {'test': <torch.utils.data.dataloader.DataLoader object at 0x0000021DDD91FE50>, 'train': <torch.utils.data.dataloader.DataLoader object at 0x0000021DDD8D78D0>, 'valid': <torch.utils.data.dataloader.DataLoader object at 0x0000021DDC776D90>}\n",
      "\n",
      "    \u001b[0m\u001b[94mdef\u001b[39;49;00m \u001b[92mtest_data_loaders_output_type\u001b[39;49;00m(data_loaders):\u001b[90m\u001b[39;49;00m\n",
      "        \u001b[90m# Test the data loaders\u001b[39;49;00m\u001b[90m\u001b[39;49;00m\n",
      "        dataiter = \u001b[96miter\u001b[39;49;00m(data_loaders[\u001b[33m\"\u001b[39;49;00m\u001b[33mtrain\u001b[39;49;00m\u001b[33m\"\u001b[39;49;00m])\u001b[90m\u001b[39;49;00m\n",
      ">       images, labels = \u001b[96mnext\u001b[39;49;00m(dataiter)\u001b[90m\u001b[39;49;00m\n",
      "\n",
      "\u001b[1m\u001b[31msrc\\data.py\u001b[0m:210: \n",
      "_ _ _ _ _ _ _ _ _ _ _ _ _ _ _ _ _ _ _ _ _ _ _ _ _ _ _ _ _ _ _ _ _ _ _ _ _ _ _ _\n",
      "\u001b[1m\u001b[31m.venv\\Lib\\site-packages\\torch\\utils\\data\\dataloader.py\u001b[0m:631: in __next__\n",
      "    \u001b[0mdata = \u001b[96mself\u001b[39;49;00m._next_data()\u001b[90m\u001b[39;49;00m\n",
      "\u001b[1m\u001b[31m.venv\\Lib\\site-packages\\torch\\utils\\data\\dataloader.py\u001b[0m:675: in _next_data\n",
      "    \u001b[0mdata = \u001b[96mself\u001b[39;49;00m._dataset_fetcher.fetch(index)  \u001b[90m# may raise StopIteration\u001b[39;49;00m\u001b[90m\u001b[39;49;00m\n",
      "\u001b[1m\u001b[31m.venv\\Lib\\site-packages\\torch\\utils\\data\\_utils\\fetch.py\u001b[0m:51: in fetch\n",
      "    \u001b[0mdata = [\u001b[96mself\u001b[39;49;00m.dataset[idx] \u001b[94mfor\u001b[39;49;00m idx \u001b[95min\u001b[39;49;00m possibly_batched_index]\u001b[90m\u001b[39;49;00m\n",
      "\u001b[1m\u001b[31m.venv\\Lib\\site-packages\\torch\\utils\\data\\_utils\\fetch.py\u001b[0m:51: in <listcomp>\n",
      "    \u001b[0mdata = [\u001b[96mself\u001b[39;49;00m.dataset[idx] \u001b[94mfor\u001b[39;49;00m idx \u001b[95min\u001b[39;49;00m possibly_batched_index]\u001b[90m\u001b[39;49;00m\n",
      "\u001b[1m\u001b[31m.venv\\Lib\\site-packages\\torchvision\\datasets\\folder.py\u001b[0m:247: in __getitem__\n",
      "    \u001b[0msample = \u001b[96mself\u001b[39;49;00m.transform(sample)\u001b[90m\u001b[39;49;00m\n",
      "\u001b[1m\u001b[31m.venv\\Lib\\site-packages\\torchvision\\transforms\\transforms.py\u001b[0m:95: in __call__\n",
      "    \u001b[0mimg = t(img)\u001b[90m\u001b[39;49;00m\n",
      "\u001b[1m\u001b[31m.venv\\Lib\\site-packages\\torchvision\\transforms\\transforms.py\u001b[0m:137: in __call__\n",
      "    \u001b[0m\u001b[94mreturn\u001b[39;49;00m F.to_tensor(pic)\u001b[90m\u001b[39;49;00m\n",
      "_ _ _ _ _ _ _ _ _ _ _ _ _ _ _ _ _ _ _ _ _ _ _ _ _ _ _ _ _ _ _ _ _ _ _ _ _ _ _ _\n",
      "\n",
      "pic = <PIL.Image.Image image mode=RGB size=224x224 at 0x21DDD9B4C50>\n",
      "\n",
      "    \u001b[0m\u001b[94mdef\u001b[39;49;00m \u001b[92mto_tensor\u001b[39;49;00m(pic: Union[PILImage, np.ndarray]) -> Tensor:\u001b[90m\u001b[39;49;00m\n",
      "    \u001b[90m    \u001b[39;49;00m\u001b[33m\"\"\"Convert a ``PIL Image`` or ``numpy.ndarray`` to tensor.\u001b[39;49;00m\n",
      "    \u001b[33m    This function does not support torchscript.\u001b[39;49;00m\n",
      "    \u001b[33m\u001b[39;49;00m\n",
      "    \u001b[33m    See :class:`~torchvision.transforms.ToTensor` for more details.\u001b[39;49;00m\n",
      "    \u001b[33m\u001b[39;49;00m\n",
      "    \u001b[33m    Args:\u001b[39;49;00m\n",
      "    \u001b[33m        pic (PIL Image or numpy.ndarray): Image to be converted to tensor.\u001b[39;49;00m\n",
      "    \u001b[33m\u001b[39;49;00m\n",
      "    \u001b[33m    Returns:\u001b[39;49;00m\n",
      "    \u001b[33m        Tensor: Converted image.\u001b[39;49;00m\n",
      "    \u001b[33m    \"\"\"\u001b[39;49;00m\u001b[90m\u001b[39;49;00m\n",
      "        \u001b[94mif\u001b[39;49;00m \u001b[95mnot\u001b[39;49;00m torch.jit.is_scripting() \u001b[95mand\u001b[39;49;00m \u001b[95mnot\u001b[39;49;00m torch.jit.is_tracing():\u001b[90m\u001b[39;49;00m\n",
      "            _log_api_usage_once(to_tensor)\u001b[90m\u001b[39;49;00m\n",
      "        \u001b[94mif\u001b[39;49;00m \u001b[95mnot\u001b[39;49;00m (F_pil._is_pil_image(pic) \u001b[95mor\u001b[39;49;00m _is_numpy(pic)):\u001b[90m\u001b[39;49;00m\n",
      "            \u001b[94mraise\u001b[39;49;00m \u001b[96mTypeError\u001b[39;49;00m(\u001b[33mf\u001b[39;49;00m\u001b[33m\"\u001b[39;49;00m\u001b[33mpic should be PIL Image or ndarray. Got \u001b[39;49;00m\u001b[33m{\u001b[39;49;00m\u001b[96mtype\u001b[39;49;00m(pic)\u001b[33m}\u001b[39;49;00m\u001b[33m\"\u001b[39;49;00m)\u001b[90m\u001b[39;49;00m\n",
      "    \u001b[90m\u001b[39;49;00m\n",
      "        \u001b[94mif\u001b[39;49;00m _is_numpy(pic) \u001b[95mand\u001b[39;49;00m \u001b[95mnot\u001b[39;49;00m _is_numpy_image(pic):\u001b[90m\u001b[39;49;00m\n",
      "            \u001b[94mraise\u001b[39;49;00m \u001b[96mValueError\u001b[39;49;00m(\u001b[33mf\u001b[39;49;00m\u001b[33m\"\u001b[39;49;00m\u001b[33mpic should be 2/3 dimensional. Got \u001b[39;49;00m\u001b[33m{\u001b[39;49;00mpic.ndim\u001b[33m}\u001b[39;49;00m\u001b[33m dimensions.\u001b[39;49;00m\u001b[33m\"\u001b[39;49;00m)\u001b[90m\u001b[39;49;00m\n",
      "    \u001b[90m\u001b[39;49;00m\n",
      "        default_float_dtype = torch.get_default_dtype()\u001b[90m\u001b[39;49;00m\n",
      "    \u001b[90m\u001b[39;49;00m\n",
      "        \u001b[94mif\u001b[39;49;00m \u001b[96misinstance\u001b[39;49;00m(pic, np.ndarray):\u001b[90m\u001b[39;49;00m\n",
      "            \u001b[90m# handle numpy array\u001b[39;49;00m\u001b[90m\u001b[39;49;00m\n",
      "            \u001b[94mif\u001b[39;49;00m pic.ndim == \u001b[94m2\u001b[39;49;00m:\u001b[90m\u001b[39;49;00m\n",
      "                pic = pic[:, :, \u001b[94mNone\u001b[39;49;00m]\u001b[90m\u001b[39;49;00m\n",
      "    \u001b[90m\u001b[39;49;00m\n",
      "            img = torch.from_numpy(pic.transpose((\u001b[94m2\u001b[39;49;00m, \u001b[94m0\u001b[39;49;00m, \u001b[94m1\u001b[39;49;00m))).contiguous()\u001b[90m\u001b[39;49;00m\n",
      "            \u001b[90m# backward compatibility\u001b[39;49;00m\u001b[90m\u001b[39;49;00m\n",
      "            \u001b[94mif\u001b[39;49;00m \u001b[96misinstance\u001b[39;49;00m(img, torch.ByteTensor):\u001b[90m\u001b[39;49;00m\n",
      "                \u001b[94mreturn\u001b[39;49;00m img.to(dtype=default_float_dtype).div(\u001b[94m255\u001b[39;49;00m)\u001b[90m\u001b[39;49;00m\n",
      "            \u001b[94melse\u001b[39;49;00m:\u001b[90m\u001b[39;49;00m\n",
      "                \u001b[94mreturn\u001b[39;49;00m img\u001b[90m\u001b[39;49;00m\n",
      "    \u001b[90m\u001b[39;49;00m\n",
      "        \u001b[94mif\u001b[39;49;00m accimage \u001b[95mis\u001b[39;49;00m \u001b[95mnot\u001b[39;49;00m \u001b[94mNone\u001b[39;49;00m \u001b[95mand\u001b[39;49;00m \u001b[96misinstance\u001b[39;49;00m(pic, accimage.Image):\u001b[90m\u001b[39;49;00m\n",
      "            nppic = np.zeros([pic.channels, pic.height, pic.width], dtype=np.float32)\u001b[90m\u001b[39;49;00m\n",
      "            pic.copyto(nppic)\u001b[90m\u001b[39;49;00m\n",
      "            \u001b[94mreturn\u001b[39;49;00m torch.from_numpy(nppic).to(dtype=default_float_dtype)\u001b[90m\u001b[39;49;00m\n",
      "    \u001b[90m\u001b[39;49;00m\n",
      "        \u001b[90m# handle PIL Image\u001b[39;49;00m\u001b[90m\u001b[39;49;00m\n",
      "        mode_to_nptype = {\u001b[33m\"\u001b[39;49;00m\u001b[33mI\u001b[39;49;00m\u001b[33m\"\u001b[39;49;00m: np.int32, \u001b[33m\"\u001b[39;49;00m\u001b[33mI;16\u001b[39;49;00m\u001b[33m\"\u001b[39;49;00m \u001b[94mif\u001b[39;49;00m sys.byteorder == \u001b[33m\"\u001b[39;49;00m\u001b[33mlittle\u001b[39;49;00m\u001b[33m\"\u001b[39;49;00m \u001b[94melse\u001b[39;49;00m \u001b[33m\"\u001b[39;49;00m\u001b[33mI;16B\u001b[39;49;00m\u001b[33m\"\u001b[39;49;00m: np.int16, \u001b[33m\"\u001b[39;49;00m\u001b[33mF\u001b[39;49;00m\u001b[33m\"\u001b[39;49;00m: np.float32}\u001b[90m\u001b[39;49;00m\n",
      ">       img = torch.from_numpy(np.array(pic, mode_to_nptype.get(pic.mode, np.uint8), copy=\u001b[94mTrue\u001b[39;49;00m))\u001b[90m\u001b[39;49;00m\n",
      "\u001b[1m\u001b[31mE       RuntimeError: Numpy is not available\u001b[0m\n",
      "\n",
      "\u001b[1m\u001b[31m.venv\\Lib\\site-packages\\torchvision\\transforms\\functional.py\u001b[0m:168: RuntimeError\n",
      "\u001b[31m\u001b[1m_______________________ test_data_loaders_output_shape ________________________\u001b[0m\n",
      "\n",
      "data_loaders = {'test': <torch.utils.data.dataloader.DataLoader object at 0x0000021DDD91FE50>, 'train': <torch.utils.data.dataloader.DataLoader object at 0x0000021DDD8D78D0>, 'valid': <torch.utils.data.dataloader.DataLoader object at 0x0000021DDC776D90>}\n",
      "\n",
      "    \u001b[0m\u001b[94mdef\u001b[39;49;00m \u001b[92mtest_data_loaders_output_shape\u001b[39;49;00m(data_loaders):\u001b[90m\u001b[39;49;00m\n",
      "        dataiter = \u001b[96miter\u001b[39;49;00m(data_loaders[\u001b[33m\"\u001b[39;49;00m\u001b[33mtrain\u001b[39;49;00m\u001b[33m\"\u001b[39;49;00m])\u001b[90m\u001b[39;49;00m\n",
      ">       images, labels = \u001b[96mnext\u001b[39;49;00m(dataiter)\u001b[90m\u001b[39;49;00m\n",
      "\n",
      "\u001b[1m\u001b[31msrc\\data.py\u001b[0m:220: \n",
      "_ _ _ _ _ _ _ _ _ _ _ _ _ _ _ _ _ _ _ _ _ _ _ _ _ _ _ _ _ _ _ _ _ _ _ _ _ _ _ _\n",
      "\u001b[1m\u001b[31m.venv\\Lib\\site-packages\\torch\\utils\\data\\dataloader.py\u001b[0m:631: in __next__\n",
      "    \u001b[0mdata = \u001b[96mself\u001b[39;49;00m._next_data()\u001b[90m\u001b[39;49;00m\n",
      "\u001b[1m\u001b[31m.venv\\Lib\\site-packages\\torch\\utils\\data\\dataloader.py\u001b[0m:675: in _next_data\n",
      "    \u001b[0mdata = \u001b[96mself\u001b[39;49;00m._dataset_fetcher.fetch(index)  \u001b[90m# may raise StopIteration\u001b[39;49;00m\u001b[90m\u001b[39;49;00m\n",
      "\u001b[1m\u001b[31m.venv\\Lib\\site-packages\\torch\\utils\\data\\_utils\\fetch.py\u001b[0m:51: in fetch\n",
      "    \u001b[0mdata = [\u001b[96mself\u001b[39;49;00m.dataset[idx] \u001b[94mfor\u001b[39;49;00m idx \u001b[95min\u001b[39;49;00m possibly_batched_index]\u001b[90m\u001b[39;49;00m\n",
      "\u001b[1m\u001b[31m.venv\\Lib\\site-packages\\torch\\utils\\data\\_utils\\fetch.py\u001b[0m:51: in <listcomp>\n",
      "    \u001b[0mdata = [\u001b[96mself\u001b[39;49;00m.dataset[idx] \u001b[94mfor\u001b[39;49;00m idx \u001b[95min\u001b[39;49;00m possibly_batched_index]\u001b[90m\u001b[39;49;00m\n",
      "\u001b[1m\u001b[31m.venv\\Lib\\site-packages\\torchvision\\datasets\\folder.py\u001b[0m:247: in __getitem__\n",
      "    \u001b[0msample = \u001b[96mself\u001b[39;49;00m.transform(sample)\u001b[90m\u001b[39;49;00m\n",
      "\u001b[1m\u001b[31m.venv\\Lib\\site-packages\\torchvision\\transforms\\transforms.py\u001b[0m:95: in __call__\n",
      "    \u001b[0mimg = t(img)\u001b[90m\u001b[39;49;00m\n",
      "\u001b[1m\u001b[31m.venv\\Lib\\site-packages\\torchvision\\transforms\\transforms.py\u001b[0m:137: in __call__\n",
      "    \u001b[0m\u001b[94mreturn\u001b[39;49;00m F.to_tensor(pic)\u001b[90m\u001b[39;49;00m\n",
      "_ _ _ _ _ _ _ _ _ _ _ _ _ _ _ _ _ _ _ _ _ _ _ _ _ _ _ _ _ _ _ _ _ _ _ _ _ _ _ _\n",
      "\n",
      "pic = <PIL.Image.Image image mode=RGB size=224x224 at 0x21DDDF94710>\n",
      "\n",
      "    \u001b[0m\u001b[94mdef\u001b[39;49;00m \u001b[92mto_tensor\u001b[39;49;00m(pic: Union[PILImage, np.ndarray]) -> Tensor:\u001b[90m\u001b[39;49;00m\n",
      "    \u001b[90m    \u001b[39;49;00m\u001b[33m\"\"\"Convert a ``PIL Image`` or ``numpy.ndarray`` to tensor.\u001b[39;49;00m\n",
      "    \u001b[33m    This function does not support torchscript.\u001b[39;49;00m\n",
      "    \u001b[33m\u001b[39;49;00m\n",
      "    \u001b[33m    See :class:`~torchvision.transforms.ToTensor` for more details.\u001b[39;49;00m\n",
      "    \u001b[33m\u001b[39;49;00m\n",
      "    \u001b[33m    Args:\u001b[39;49;00m\n",
      "    \u001b[33m        pic (PIL Image or numpy.ndarray): Image to be converted to tensor.\u001b[39;49;00m\n",
      "    \u001b[33m\u001b[39;49;00m\n",
      "    \u001b[33m    Returns:\u001b[39;49;00m\n",
      "    \u001b[33m        Tensor: Converted image.\u001b[39;49;00m\n",
      "    \u001b[33m    \"\"\"\u001b[39;49;00m\u001b[90m\u001b[39;49;00m\n",
      "        \u001b[94mif\u001b[39;49;00m \u001b[95mnot\u001b[39;49;00m torch.jit.is_scripting() \u001b[95mand\u001b[39;49;00m \u001b[95mnot\u001b[39;49;00m torch.jit.is_tracing():\u001b[90m\u001b[39;49;00m\n",
      "            _log_api_usage_once(to_tensor)\u001b[90m\u001b[39;49;00m\n",
      "        \u001b[94mif\u001b[39;49;00m \u001b[95mnot\u001b[39;49;00m (F_pil._is_pil_image(pic) \u001b[95mor\u001b[39;49;00m _is_numpy(pic)):\u001b[90m\u001b[39;49;00m\n",
      "            \u001b[94mraise\u001b[39;49;00m \u001b[96mTypeError\u001b[39;49;00m(\u001b[33mf\u001b[39;49;00m\u001b[33m\"\u001b[39;49;00m\u001b[33mpic should be PIL Image or ndarray. Got \u001b[39;49;00m\u001b[33m{\u001b[39;49;00m\u001b[96mtype\u001b[39;49;00m(pic)\u001b[33m}\u001b[39;49;00m\u001b[33m\"\u001b[39;49;00m)\u001b[90m\u001b[39;49;00m\n",
      "    \u001b[90m\u001b[39;49;00m\n",
      "        \u001b[94mif\u001b[39;49;00m _is_numpy(pic) \u001b[95mand\u001b[39;49;00m \u001b[95mnot\u001b[39;49;00m _is_numpy_image(pic):\u001b[90m\u001b[39;49;00m\n",
      "            \u001b[94mraise\u001b[39;49;00m \u001b[96mValueError\u001b[39;49;00m(\u001b[33mf\u001b[39;49;00m\u001b[33m\"\u001b[39;49;00m\u001b[33mpic should be 2/3 dimensional. Got \u001b[39;49;00m\u001b[33m{\u001b[39;49;00mpic.ndim\u001b[33m}\u001b[39;49;00m\u001b[33m dimensions.\u001b[39;49;00m\u001b[33m\"\u001b[39;49;00m)\u001b[90m\u001b[39;49;00m\n",
      "    \u001b[90m\u001b[39;49;00m\n",
      "        default_float_dtype = torch.get_default_dtype()\u001b[90m\u001b[39;49;00m\n",
      "    \u001b[90m\u001b[39;49;00m\n",
      "        \u001b[94mif\u001b[39;49;00m \u001b[96misinstance\u001b[39;49;00m(pic, np.ndarray):\u001b[90m\u001b[39;49;00m\n",
      "            \u001b[90m# handle numpy array\u001b[39;49;00m\u001b[90m\u001b[39;49;00m\n",
      "            \u001b[94mif\u001b[39;49;00m pic.ndim == \u001b[94m2\u001b[39;49;00m:\u001b[90m\u001b[39;49;00m\n",
      "                pic = pic[:, :, \u001b[94mNone\u001b[39;49;00m]\u001b[90m\u001b[39;49;00m\n",
      "    \u001b[90m\u001b[39;49;00m\n",
      "            img = torch.from_numpy(pic.transpose((\u001b[94m2\u001b[39;49;00m, \u001b[94m0\u001b[39;49;00m, \u001b[94m1\u001b[39;49;00m))).contiguous()\u001b[90m\u001b[39;49;00m\n",
      "            \u001b[90m# backward compatibility\u001b[39;49;00m\u001b[90m\u001b[39;49;00m\n",
      "            \u001b[94mif\u001b[39;49;00m \u001b[96misinstance\u001b[39;49;00m(img, torch.ByteTensor):\u001b[90m\u001b[39;49;00m\n",
      "                \u001b[94mreturn\u001b[39;49;00m img.to(dtype=default_float_dtype).div(\u001b[94m255\u001b[39;49;00m)\u001b[90m\u001b[39;49;00m\n",
      "            \u001b[94melse\u001b[39;49;00m:\u001b[90m\u001b[39;49;00m\n",
      "                \u001b[94mreturn\u001b[39;49;00m img\u001b[90m\u001b[39;49;00m\n",
      "    \u001b[90m\u001b[39;49;00m\n",
      "        \u001b[94mif\u001b[39;49;00m accimage \u001b[95mis\u001b[39;49;00m \u001b[95mnot\u001b[39;49;00m \u001b[94mNone\u001b[39;49;00m \u001b[95mand\u001b[39;49;00m \u001b[96misinstance\u001b[39;49;00m(pic, accimage.Image):\u001b[90m\u001b[39;49;00m\n",
      "            nppic = np.zeros([pic.channels, pic.height, pic.width], dtype=np.float32)\u001b[90m\u001b[39;49;00m\n",
      "            pic.copyto(nppic)\u001b[90m\u001b[39;49;00m\n",
      "            \u001b[94mreturn\u001b[39;49;00m torch.from_numpy(nppic).to(dtype=default_float_dtype)\u001b[90m\u001b[39;49;00m\n",
      "    \u001b[90m\u001b[39;49;00m\n",
      "        \u001b[90m# handle PIL Image\u001b[39;49;00m\u001b[90m\u001b[39;49;00m\n",
      "        mode_to_nptype = {\u001b[33m\"\u001b[39;49;00m\u001b[33mI\u001b[39;49;00m\u001b[33m\"\u001b[39;49;00m: np.int32, \u001b[33m\"\u001b[39;49;00m\u001b[33mI;16\u001b[39;49;00m\u001b[33m\"\u001b[39;49;00m \u001b[94mif\u001b[39;49;00m sys.byteorder == \u001b[33m\"\u001b[39;49;00m\u001b[33mlittle\u001b[39;49;00m\u001b[33m\"\u001b[39;49;00m \u001b[94melse\u001b[39;49;00m \u001b[33m\"\u001b[39;49;00m\u001b[33mI;16B\u001b[39;49;00m\u001b[33m\"\u001b[39;49;00m: np.int16, \u001b[33m\"\u001b[39;49;00m\u001b[33mF\u001b[39;49;00m\u001b[33m\"\u001b[39;49;00m: np.float32}\u001b[90m\u001b[39;49;00m\n",
      ">       img = torch.from_numpy(np.array(pic, mode_to_nptype.get(pic.mode, np.uint8), copy=\u001b[94mTrue\u001b[39;49;00m))\u001b[90m\u001b[39;49;00m\n",
      "\u001b[1m\u001b[31mE       RuntimeError: Numpy is not available\u001b[0m\n",
      "\n",
      "\u001b[1m\u001b[31m.venv\\Lib\\site-packages\\torchvision\\transforms\\functional.py\u001b[0m:168: RuntimeError\n",
      "\u001b[33m============================== warnings summary ===============================\u001b[0m\n",
      ".venv\\Lib\\site-packages\\torch\\nested\\_internal\\nested_tensor.py:417\n",
      "  D:\\Projects\\MacLea\\AWS_Scholarship\\starter-kit\\.venv\\Lib\\site-packages\\torch\\nested\\_internal\\nested_tensor.py:417: UserWarning: Failed to initialize NumPy: _ARRAY_API not found (Triggered internally at ..\\torch\\csrc\\utils\\tensor_numpy.cpp:84.)\n",
      "    values=torch.randn(3, 3, device=\"meta\"),\n",
      "\n",
      "-- Docs: https://docs.pytest.org/en/stable/how-to/capture-warnings.html\n",
      "\u001b[36m\u001b[1m=========================== short test summary info ===========================\u001b[0m\n",
      "\u001b[31mFAILED\u001b[0m src/data.py::\u001b[1mtest_data_loaders_output_type\u001b[0m - RuntimeError: Numpy is not available\n",
      "\u001b[31mFAILED\u001b[0m src/data.py::\u001b[1mtest_data_loaders_output_shape\u001b[0m - RuntimeError: Numpy is not available\n",
      "\u001b[31m============ \u001b[31m\u001b[1m2 failed\u001b[0m, \u001b[32m1 passed\u001b[0m, \u001b[33m1 deselected\u001b[0m, \u001b[33m1 warning\u001b[0m\u001b[31m in 3.07s\u001b[0m\u001b[31m =============\u001b[0m\n"
     ]
    }
   ],
   "source": [
    "!pytest -vv src/data.py -k data_loaders"
   ]
  },
  {
   "cell_type": "markdown",
   "metadata": {},
   "source": [
    "You should see something like:\n",
    "```\n",
    "src/data.py::test_data_loaders_keys PASSED                               [ 33%]\n",
    "src/data.py::test_data_loaders_output_type PASSED                        [ 66%]\n",
    "src/data.py::test_data_loaders_output_shape PASSED                       [100%]\n",
    "\n",
    "======================= 3 passed, 1 deselected in 1.81s ========================\n",
    "```\n",
    "If all the tests are `PASSED`, you can move to the next section.\n",
    "\n",
    "> <img src=\"static_images/icons/noun-info-2558213.png\" alt=\"?\" style=\"width:25px\"/> **What to do if tests fail**\n",
    "When a test fails, `pytest` will mark it as `FAILED` as opposed to `PASSED`, and will print a lot of useful output, including a message that should tell you what the problem is. For example, this is the output of a failed test:\n",
    "> ```\n",
    ">    def test_data_loaders_keys(data_loaders):\n",
    ">    \n",
    ">       assert set(data_loaders.keys()) == {\"train\", \"valid\", \"test\"}\n",
    "E       AssertionError: assert {'tes', 'train', 'valid'} == {'test', 'train', 'valid'}\n",
    "E         Extra items in the left set:\n",
    "E         'tes'\n",
    "E         Full diff:\n",
    "E         - {'test', 'train', 'valid'}\n",
    "E         + {'tes', 'train', 'valid'}\n",
    "E         ?                          +++++++\n",
    ">\n",
    "> src/data.py:171: AssertionError\n",
    "-------------- Captured stdout setup ----------------------------------------------\n",
    "Reusing cached mean and std for landmark_images\n",
    "Dataset mean: tensor([0.4638, 0.4725, 0.4687]), std: tensor([0.2699, 0.2706, 0.3018])\n",
    "=========== short test summary info ===============================================\n",
    "FAILED src/data.py::test_data_loaders_keys - AssertionError: The keys of the data_loaders dictionary should be train, valid and test\n",
    "> ``` \n",
    "> In the `short test summary info` you can see a short description of the problem. In this case, the dictionary we are returning has the wrong keys. Going above a little, you can see that the test expects `{'test', 'train', 'valid'}` while we are returning `{'tes', 'train', 'valid'}` (there is a missing `t`). So we can go back to our function, fix that problem and test again.\n",
    "> \n",
    "> In other cases, you might get an error like:\n",
    "> ```\n",
    "    def _conv_forward(self, input: Tensor, weight: Tensor, bias: Optional[Tensor]):\n",
    "        if self.padding_mode != 'zeros':\n",
    "            return F.conv2d(F.pad(input, self._reversed_padding_repeated_twice, mode=self.padding_mode),\n",
    "                            weight, bias, self.stride,\n",
    "                            _pair(0), self.dilation, self.groups)\n",
    "        return F.conv2d(input, weight, bias, self.stride,\n",
    ">                       self.padding, self.dilation, self.groups)\n",
    "E       RuntimeError: Input type (torch.cuda.FloatTensor) and weight type (torch.FloatTensor) should be the same\n",
    ">\n",
    "> ../../../../miniconda3/envs/udacity_starter/lib/python3.7/site-packages/torch/nn/modules/conv.py:440: RuntimeError\n",
    "> ```\n",
    "> Looking at the stack trace you should be able to understand what it is going on. In this case, we forgot to add a `.cuda()` to some tensor. For example, the model is on the GPU, but the data aren't."
   ]
  },
  {
   "cell_type": "markdown",
   "metadata": {},
   "source": [
    "<img src=\"static_images/icons/noun-question-mark-869751.png\" alt=\"?\" style=\"width:25px\"/> **Question:** Describe your chosen procedure for preprocessing the data. \n",
    "- How does your code resize the images (by cropping, stretching, etc)?  What size did you pick for the input tensor, and why?\n",
    "- Did you decide to augment the dataset?  If so, how (through translations, flips, rotations, etc)?  If not, why not?"
   ]
  },
  {
   "cell_type": "markdown",
   "metadata": {},
   "source": [
    "<img src=\"static_images/icons/noun-answer-3361020.png\" alt=\">\" style=\"width:25px\"/> **Answer**: My code first resizes the image to 256 and then crops to 224. I picked 224 as the input size because it is the recommended input size for using pytorch's pre-trained models. I did decide to augment the dataset via RandAugment, a typical set of augmentations for natural images. I added this augmentation with the goal of improving my model's robustness, thus improving test accuracy."
   ]
  },
  {
   "cell_type": "markdown",
   "metadata": {},
   "source": [
    "### Visualize a Batch of Training Data\n",
    "\n",
    "Go back to `src/data.py` and complete the function `visualize_one_batch` in all places with the `YOUR CODE HERE` marker. After you're done, execute the following cell and make sure the test `src/data.py::test_visualize_one_batch` is `PASSED`:"
   ]
  },
  {
   "cell_type": "code",
   "execution_count": 2,
   "metadata": {},
   "outputs": [
    {
     "name": "stdout",
     "output_type": "stream",
     "text": [
      "\u001b[1m============================= test session starts =============================\u001b[0m\n",
      "platform win32 -- Python 3.11.9, pytest-8.3.1, pluggy-1.5.0 -- D:\\Projects\\MacLea\\AWS_Scholarship\\starter-kit\\.venv\\Scripts\\python.exe\n",
      "cachedir: .pytest_cache\n",
      "rootdir: D:\\Projects\\MacLea\\AWS_Scholarship\\starter-kit\n",
      "plugins: anyio-4.4.0\n",
      "\u001b[1mcollecting ... \u001b[0mcollected 4 items / 3 deselected / 1 selected\n",
      "\n",
      "src/data.py::test_visualize_one_batch \u001b[31mFAILED\u001b[0m\u001b[31m                             [100%]\u001b[0m\n",
      "\n",
      "================================== FAILURES ===================================\n",
      "\u001b[31m\u001b[1m__________________________ test_visualize_one_batch ___________________________\u001b[0m\n",
      "\n",
      "data_loaders = {'test': <torch.utils.data.dataloader.DataLoader object at 0x0000022736424690>, 'train': <torch.utils.data.dataloader.DataLoader object at 0x00000227360FC290>, 'valid': <torch.utils.data.dataloader.DataLoader object at 0x0000022735EE9690>}\n",
      "\n",
      "    \u001b[0m\u001b[94mdef\u001b[39;49;00m \u001b[92mtest_visualize_one_batch\u001b[39;49;00m(data_loaders):\u001b[90m\u001b[39;49;00m\n",
      "    \u001b[90m\u001b[39;49;00m\n",
      ">       visualize_one_batch(data_loaders, max_n=\u001b[94m2\u001b[39;49;00m)\u001b[90m\u001b[39;49;00m\n",
      "\n",
      "\u001b[1m\u001b[31msrc\\data.py\u001b[0m:230: \n",
      "_ _ _ _ _ _ _ _ _ _ _ _ _ _ _ _ _ _ _ _ _ _ _ _ _ _ _ _ _ _ _ _ _ _ _ _ _ _ _ _\n",
      "\u001b[1m\u001b[31msrc\\data.py\u001b[0m:160: in visualize_one_batch\n",
      "    \u001b[0mimages, labels  = \u001b[96mnext\u001b[39;49;00m(dataiter)\u001b[90m\u001b[39;49;00m\n",
      "\u001b[1m\u001b[31m.venv\\Lib\\site-packages\\torch\\utils\\data\\dataloader.py\u001b[0m:631: in __next__\n",
      "    \u001b[0mdata = \u001b[96mself\u001b[39;49;00m._next_data()\u001b[90m\u001b[39;49;00m\n",
      "\u001b[1m\u001b[31m.venv\\Lib\\site-packages\\torch\\utils\\data\\dataloader.py\u001b[0m:675: in _next_data\n",
      "    \u001b[0mdata = \u001b[96mself\u001b[39;49;00m._dataset_fetcher.fetch(index)  \u001b[90m# may raise StopIteration\u001b[39;49;00m\u001b[90m\u001b[39;49;00m\n",
      "\u001b[1m\u001b[31m.venv\\Lib\\site-packages\\torch\\utils\\data\\_utils\\fetch.py\u001b[0m:51: in fetch\n",
      "    \u001b[0mdata = [\u001b[96mself\u001b[39;49;00m.dataset[idx] \u001b[94mfor\u001b[39;49;00m idx \u001b[95min\u001b[39;49;00m possibly_batched_index]\u001b[90m\u001b[39;49;00m\n",
      "\u001b[1m\u001b[31m.venv\\Lib\\site-packages\\torch\\utils\\data\\_utils\\fetch.py\u001b[0m:51: in <listcomp>\n",
      "    \u001b[0mdata = [\u001b[96mself\u001b[39;49;00m.dataset[idx] \u001b[94mfor\u001b[39;49;00m idx \u001b[95min\u001b[39;49;00m possibly_batched_index]\u001b[90m\u001b[39;49;00m\n",
      "\u001b[1m\u001b[31m.venv\\Lib\\site-packages\\torchvision\\datasets\\folder.py\u001b[0m:247: in __getitem__\n",
      "    \u001b[0msample = \u001b[96mself\u001b[39;49;00m.transform(sample)\u001b[90m\u001b[39;49;00m\n",
      "\u001b[1m\u001b[31m.venv\\Lib\\site-packages\\torchvision\\transforms\\transforms.py\u001b[0m:95: in __call__\n",
      "    \u001b[0mimg = t(img)\u001b[90m\u001b[39;49;00m\n",
      "\u001b[1m\u001b[31m.venv\\Lib\\site-packages\\torchvision\\transforms\\transforms.py\u001b[0m:137: in __call__\n",
      "    \u001b[0m\u001b[94mreturn\u001b[39;49;00m F.to_tensor(pic)\u001b[90m\u001b[39;49;00m\n",
      "_ _ _ _ _ _ _ _ _ _ _ _ _ _ _ _ _ _ _ _ _ _ _ _ _ _ _ _ _ _ _ _ _ _ _ _ _ _ _ _\n",
      "\n",
      "pic = <PIL.Image.Image image mode=RGB size=224x224 at 0x227364B1190>\n",
      "\n",
      "    \u001b[0m\u001b[94mdef\u001b[39;49;00m \u001b[92mto_tensor\u001b[39;49;00m(pic: Union[PILImage, np.ndarray]) -> Tensor:\u001b[90m\u001b[39;49;00m\n",
      "    \u001b[90m    \u001b[39;49;00m\u001b[33m\"\"\"Convert a ``PIL Image`` or ``numpy.ndarray`` to tensor.\u001b[39;49;00m\n",
      "    \u001b[33m    This function does not support torchscript.\u001b[39;49;00m\n",
      "    \u001b[33m\u001b[39;49;00m\n",
      "    \u001b[33m    See :class:`~torchvision.transforms.ToTensor` for more details.\u001b[39;49;00m\n",
      "    \u001b[33m\u001b[39;49;00m\n",
      "    \u001b[33m    Args:\u001b[39;49;00m\n",
      "    \u001b[33m        pic (PIL Image or numpy.ndarray): Image to be converted to tensor.\u001b[39;49;00m\n",
      "    \u001b[33m\u001b[39;49;00m\n",
      "    \u001b[33m    Returns:\u001b[39;49;00m\n",
      "    \u001b[33m        Tensor: Converted image.\u001b[39;49;00m\n",
      "    \u001b[33m    \"\"\"\u001b[39;49;00m\u001b[90m\u001b[39;49;00m\n",
      "        \u001b[94mif\u001b[39;49;00m \u001b[95mnot\u001b[39;49;00m torch.jit.is_scripting() \u001b[95mand\u001b[39;49;00m \u001b[95mnot\u001b[39;49;00m torch.jit.is_tracing():\u001b[90m\u001b[39;49;00m\n",
      "            _log_api_usage_once(to_tensor)\u001b[90m\u001b[39;49;00m\n",
      "        \u001b[94mif\u001b[39;49;00m \u001b[95mnot\u001b[39;49;00m (F_pil._is_pil_image(pic) \u001b[95mor\u001b[39;49;00m _is_numpy(pic)):\u001b[90m\u001b[39;49;00m\n",
      "            \u001b[94mraise\u001b[39;49;00m \u001b[96mTypeError\u001b[39;49;00m(\u001b[33mf\u001b[39;49;00m\u001b[33m\"\u001b[39;49;00m\u001b[33mpic should be PIL Image or ndarray. Got \u001b[39;49;00m\u001b[33m{\u001b[39;49;00m\u001b[96mtype\u001b[39;49;00m(pic)\u001b[33m}\u001b[39;49;00m\u001b[33m\"\u001b[39;49;00m)\u001b[90m\u001b[39;49;00m\n",
      "    \u001b[90m\u001b[39;49;00m\n",
      "        \u001b[94mif\u001b[39;49;00m _is_numpy(pic) \u001b[95mand\u001b[39;49;00m \u001b[95mnot\u001b[39;49;00m _is_numpy_image(pic):\u001b[90m\u001b[39;49;00m\n",
      "            \u001b[94mraise\u001b[39;49;00m \u001b[96mValueError\u001b[39;49;00m(\u001b[33mf\u001b[39;49;00m\u001b[33m\"\u001b[39;49;00m\u001b[33mpic should be 2/3 dimensional. Got \u001b[39;49;00m\u001b[33m{\u001b[39;49;00mpic.ndim\u001b[33m}\u001b[39;49;00m\u001b[33m dimensions.\u001b[39;49;00m\u001b[33m\"\u001b[39;49;00m)\u001b[90m\u001b[39;49;00m\n",
      "    \u001b[90m\u001b[39;49;00m\n",
      "        default_float_dtype = torch.get_default_dtype()\u001b[90m\u001b[39;49;00m\n",
      "    \u001b[90m\u001b[39;49;00m\n",
      "        \u001b[94mif\u001b[39;49;00m \u001b[96misinstance\u001b[39;49;00m(pic, np.ndarray):\u001b[90m\u001b[39;49;00m\n",
      "            \u001b[90m# handle numpy array\u001b[39;49;00m\u001b[90m\u001b[39;49;00m\n",
      "            \u001b[94mif\u001b[39;49;00m pic.ndim == \u001b[94m2\u001b[39;49;00m:\u001b[90m\u001b[39;49;00m\n",
      "                pic = pic[:, :, \u001b[94mNone\u001b[39;49;00m]\u001b[90m\u001b[39;49;00m\n",
      "    \u001b[90m\u001b[39;49;00m\n",
      "            img = torch.from_numpy(pic.transpose((\u001b[94m2\u001b[39;49;00m, \u001b[94m0\u001b[39;49;00m, \u001b[94m1\u001b[39;49;00m))).contiguous()\u001b[90m\u001b[39;49;00m\n",
      "            \u001b[90m# backward compatibility\u001b[39;49;00m\u001b[90m\u001b[39;49;00m\n",
      "            \u001b[94mif\u001b[39;49;00m \u001b[96misinstance\u001b[39;49;00m(img, torch.ByteTensor):\u001b[90m\u001b[39;49;00m\n",
      "                \u001b[94mreturn\u001b[39;49;00m img.to(dtype=default_float_dtype).div(\u001b[94m255\u001b[39;49;00m)\u001b[90m\u001b[39;49;00m\n",
      "            \u001b[94melse\u001b[39;49;00m:\u001b[90m\u001b[39;49;00m\n",
      "                \u001b[94mreturn\u001b[39;49;00m img\u001b[90m\u001b[39;49;00m\n",
      "    \u001b[90m\u001b[39;49;00m\n",
      "        \u001b[94mif\u001b[39;49;00m accimage \u001b[95mis\u001b[39;49;00m \u001b[95mnot\u001b[39;49;00m \u001b[94mNone\u001b[39;49;00m \u001b[95mand\u001b[39;49;00m \u001b[96misinstance\u001b[39;49;00m(pic, accimage.Image):\u001b[90m\u001b[39;49;00m\n",
      "            nppic = np.zeros([pic.channels, pic.height, pic.width], dtype=np.float32)\u001b[90m\u001b[39;49;00m\n",
      "            pic.copyto(nppic)\u001b[90m\u001b[39;49;00m\n",
      "            \u001b[94mreturn\u001b[39;49;00m torch.from_numpy(nppic).to(dtype=default_float_dtype)\u001b[90m\u001b[39;49;00m\n",
      "    \u001b[90m\u001b[39;49;00m\n",
      "        \u001b[90m# handle PIL Image\u001b[39;49;00m\u001b[90m\u001b[39;49;00m\n",
      "        mode_to_nptype = {\u001b[33m\"\u001b[39;49;00m\u001b[33mI\u001b[39;49;00m\u001b[33m\"\u001b[39;49;00m: np.int32, \u001b[33m\"\u001b[39;49;00m\u001b[33mI;16\u001b[39;49;00m\u001b[33m\"\u001b[39;49;00m \u001b[94mif\u001b[39;49;00m sys.byteorder == \u001b[33m\"\u001b[39;49;00m\u001b[33mlittle\u001b[39;49;00m\u001b[33m\"\u001b[39;49;00m \u001b[94melse\u001b[39;49;00m \u001b[33m\"\u001b[39;49;00m\u001b[33mI;16B\u001b[39;49;00m\u001b[33m\"\u001b[39;49;00m: np.int16, \u001b[33m\"\u001b[39;49;00m\u001b[33mF\u001b[39;49;00m\u001b[33m\"\u001b[39;49;00m: np.float32}\u001b[90m\u001b[39;49;00m\n",
      ">       img = torch.from_numpy(np.array(pic, mode_to_nptype.get(pic.mode, np.uint8), copy=\u001b[94mTrue\u001b[39;49;00m))\u001b[90m\u001b[39;49;00m\n",
      "\u001b[1m\u001b[31mE       RuntimeError: Numpy is not available\u001b[0m\n",
      "\n",
      "\u001b[1m\u001b[31m.venv\\Lib\\site-packages\\torchvision\\transforms\\functional.py\u001b[0m:168: RuntimeError\n",
      "---------------------------- Captured stdout setup ----------------------------\n",
      "Reusing cached mean and std\n",
      "Dataset mean: tensor([0.4638, 0.4725, 0.4687]), std: tensor([0.2697, 0.2706, 0.3017])\n",
      "\u001b[33m============================== warnings summary ===============================\u001b[0m\n",
      ".venv\\Lib\\site-packages\\torch\\nested\\_internal\\nested_tensor.py:417\n",
      "  D:\\Projects\\MacLea\\AWS_Scholarship\\starter-kit\\.venv\\Lib\\site-packages\\torch\\nested\\_internal\\nested_tensor.py:417: UserWarning: Failed to initialize NumPy: _ARRAY_API not found (Triggered internally at ..\\torch\\csrc\\utils\\tensor_numpy.cpp:84.)\n",
      "    values=torch.randn(3, 3, device=\"meta\"),\n",
      "\n",
      "-- Docs: https://docs.pytest.org/en/stable/how-to/capture-warnings.html\n",
      "\u001b[36m\u001b[1m=========================== short test summary info ===========================\u001b[0m\n",
      "\u001b[31mFAILED\u001b[0m src/data.py::\u001b[1mtest_visualize_one_batch\u001b[0m - RuntimeError: Numpy is not available\n",
      "\u001b[31m================= \u001b[31m\u001b[1m1 failed\u001b[0m, \u001b[33m3 deselected\u001b[0m, \u001b[33m1 warning\u001b[0m\u001b[31m in 3.03s\u001b[0m\u001b[31m ==================\u001b[0m\n"
     ]
    }
   ],
   "source": [
    "!pytest -vv src/data.py -k visualize_one_batch"
   ]
  },
  {
   "cell_type": "markdown",
   "metadata": {},
   "source": [
    "We can now use the code we just completed to get a batch of images from your train data loader and look at them.\n",
    "\n",
    "Visualizing the output of your data loader is a great way to ensure that your data loading and preprocessing (including transforms such as rotations, translations, color transforms...) are working as expected."
   ]
  },
  {
   "cell_type": "code",
   "execution_count": null,
   "metadata": {},
   "outputs": [],
   "source": [
    "%matplotlib inline\n",
    "from src.data import visualize_one_batch, get_data_loaders\n",
    "\n",
    "# use get_data_loaders to get the data_loaders dictionary. Use a batch_size\n",
    "# of 5, a validation size of 0.01 and num_workers=-1 (all CPUs)\n",
    "data_loaders = # YOUR CODE HERE\n",
    "\n",
    "visualize_one_batch(data_loaders)"
   ]
  },
  {
   "cell_type": "markdown",
   "metadata": {},
   "source": [
    "---\n",
    "## <img src=\"static_images/icons/noun-advance-2109145.png\" alt=\">\" style=\"width:50px\"/> Step 2: Define model\n",
    "\n",
    "Open `src/model.py` and complete the `MyModel` class filling in all the `YOUR CODE HERE` sections. After you're done, execute the following test and make sure it passes:"
   ]
  },
  {
   "cell_type": "code",
   "execution_count": null,
   "metadata": {},
   "outputs": [],
   "source": [
    "!pytest -vv src/model.py"
   ]
  },
  {
   "cell_type": "markdown",
   "metadata": {},
   "source": [
    "<img src=\"static_images/icons/noun-question-mark-869751.png\" alt=\"?\" style=\"width:25px\"/> **Question**: Outline the steps you took to get to your final CNN architecture and your reasoning at each step.  "
   ]
  },
  {
   "cell_type": "markdown",
   "metadata": {},
   "source": [
    "<img src=\"static_images/icons/noun-answer-3361020.png\" alt=\">\" style=\"width:25px\"/> __Answer:__ I decided to use 5 convolutional layers so that my model could be sufficiently expressive. I used dropout layers to reduce my model's tendency to overfit the training data. I made my model output a 50-dimensional vector to match with the 50 available landmark classes."
   ]
  },
  {
   "cell_type": "markdown",
   "metadata": {},
   "source": [
    "---\n",
    "## <img src=\"static_images/icons/noun-advance-2109145.png\" alt=\">\" style=\"width:50px\"/> Step 3: define loss and optimizer\n",
    "\n",
    "Open `src/optimization.py` and complete the `get_loss` function, then execute the test and make sure it passes:"
   ]
  },
  {
   "cell_type": "code",
   "execution_count": null,
   "metadata": {},
   "outputs": [],
   "source": [
    "!pytest -vv src/optimization.py -k get_loss"
   ]
  },
  {
   "cell_type": "markdown",
   "metadata": {},
   "source": [
    "Then, in the same file, complete the `get_optimizer` function then execute its tests, and make sure they all pass:"
   ]
  },
  {
   "cell_type": "code",
   "execution_count": null,
   "metadata": {},
   "outputs": [],
   "source": [
    "!pytest -vv src/optimization.py -k get_optimizer"
   ]
  },
  {
   "cell_type": "markdown",
   "metadata": {},
   "source": [
    "---\n",
    "## <img src=\"static_images/icons/noun-advance-2109145.png\" alt=\">\" style=\"width:50px\"/> Step 4: Train and Validate the Model\n",
    "\n",
    "> <img src=\"static_images/icons/noun-info-2558213.png\" alt=\"?\" style=\"width:25px\"/> Testing ML code is notoriously difficult. The tests in this section merely exercise the functions you are completing, so it will help you catching glaring problems but it won't guarantee that your training code is bug-free. If you see that your loss is not decreasing, for example, that's a sign of a bug or of a flawed model design. Use your judgement.\n",
    "\n",
    "Open `src/train.py` and complete the `train_one_epoch` function, then run the tests:"
   ]
  },
  {
   "cell_type": "code",
   "execution_count": null,
   "metadata": {},
   "outputs": [],
   "source": [
    "!pytest -vv src/train.py -k train_one_epoch"
   ]
  },
  {
   "cell_type": "markdown",
   "metadata": {},
   "source": [
    "Now complete the `valid` function, then run the tests:"
   ]
  },
  {
   "cell_type": "code",
   "execution_count": null,
   "metadata": {},
   "outputs": [],
   "source": [
    "!pytest -vv src/train.py -k valid_one_epoch"
   ]
  },
  {
   "cell_type": "markdown",
   "metadata": {},
   "source": [
    "Now complete the `optimize` function, then run the tests:"
   ]
  },
  {
   "cell_type": "code",
   "execution_count": null,
   "metadata": {},
   "outputs": [],
   "source": [
    "!pytest -vv src/train.py -k optimize"
   ]
  },
  {
   "cell_type": "markdown",
   "metadata": {},
   "source": [
    "Finally, complete the `test` function then run the tests:"
   ]
  },
  {
   "cell_type": "code",
   "execution_count": null,
   "metadata": {},
   "outputs": [],
   "source": [
    "!pytest -vv src/train.py -k one_epoch_test"
   ]
  },
  {
   "cell_type": "markdown",
   "metadata": {},
   "source": [
    "---\n",
    "## <img src=\"static_images/icons/noun-advance-2109145.png\" alt=\">\" style=\"width:50px\"/> Step 5: Putting everything together\n",
    "\n",
    "Allright, good job getting here! Now it's time to see if all our hard work pays off. In the following cell we will train your model and validate it against the validation set.\n",
    "\n",
    "Let's start by defining a few hyperparameters. Feel free to experiment with different values and try to optimize your model:"
   ]
  },
  {
   "cell_type": "code",
   "execution_count": null,
   "metadata": {},
   "outputs": [],
   "source": [
    "batch_size = 64        # size of the minibatch for stochastic gradient descent (or Adam)\n",
    "valid_size = 0.2       # fraction of the training data to reserve for validation\n",
    "num_epochs = 50        # number of epochs for training\n",
    "num_classes = 50       # number of classes. Do not change this\n",
    "dropout = 0.4          # dropout for our model\n",
    "learning_rate = 0.001  # Learning rate for SGD (or Adam)\n",
    "opt = 'sgd'            # optimizer. 'sgd' or 'adam'\n",
    "weight_decay = 0.0     # regularization. Increase this to combat overfitting"
   ]
  },
  {
   "cell_type": "code",
   "execution_count": null,
   "metadata": {},
   "outputs": [],
   "source": [
    "from src.data import get_data_loaders\n",
    "from src.train import optimize\n",
    "from src.optimization import get_optimizer, get_loss\n",
    "from src.model import MyModel\n",
    "\n",
    "# get the data loaders using batch_size and valid_size defined in the previous\n",
    "# cell\n",
    "# HINT: do NOT copy/paste the values. Use the variables instead\n",
    "data_loaders = # YOUR CODE HERE\n",
    "\n",
    "# instance model MyModel with num_classes and drouput defined in the previous\n",
    "# cell\n",
    "model = # YOUR CODE HERE\n",
    "\n",
    "# Get the optimizer using get_optimizer and the model you just created, the learning rate,\n",
    "# the optimizer and the weight decay specified in the previous cell\n",
    "optimizer = # YOUR CODE HERE\n",
    "\n",
    "# Get the loss using get_loss\n",
    "loss = # YOUR CODE HERE\n",
    "\n",
    "optimize(\n",
    "    data_loaders,\n",
    "    model,\n",
    "    optimizer,\n",
    "    loss,\n",
    "    n_epochs=num_epochs,\n",
    "    save_path=\"checkpoints/best_val_loss.pt\",\n",
    "    interactive_tracking=True\n",
    ")"
   ]
  },
  {
   "cell_type": "markdown",
   "metadata": {},
   "source": [
    "---\n",
    "## <img src=\"static_images/icons/noun-advance-2109145.png\" alt=\">\" style=\"width:50px\"/> Step 6: testing against the Test Set\n",
    "\n",
    "> <img src=\"static_images/icons/noun-info-2558213.png\" alt=\"?\" style=\"width:25px\"/> only run this *after* you have completed hyperpameter optimization. Do not optimize hyperparameters by looking at the results on the test set, or you might overfit on the test set (bad, bad, bad)\n",
    "\n",
    "Run the code cell below to try out your model on the test dataset of landmark images. Ensure that your test accuracy is greater than 50%."
   ]
  },
  {
   "cell_type": "code",
   "execution_count": null,
   "metadata": {},
   "outputs": [],
   "source": [
    "# load the model that got the best validation accuracy\n",
    "from src.train import one_epoch_test\n",
    "from src.model import MyModel\n",
    "import torch\n",
    "\n",
    "model = MyModel(num_classes=num_classes, dropout=dropout)\n",
    "\n",
    "# YOUR CODE HERE: load the weights in 'checkpoints/best_val_loss.pt'\n",
    "\n",
    "# Run test\n",
    "one_epoch_test(data_loaders['test'], model, loss)"
   ]
  },
  {
   "cell_type": "markdown",
   "metadata": {},
   "source": [
    "---\n",
    "## <img src=\"static_images/icons/noun-advance-2109145.png\" alt=\">\" style=\"width:50px\"/> Step 7: Export using torchscript\n",
    "\n",
    "Great job creating your CNN models! Now that you have put in all the hard work of creating accurate classifiers, let's export it so we can use it in our app.\n",
    "\n",
    "But first, as usual, we need to complete some code!\n",
    "\n",
    "Open `src/predictor.py` and fill up the missing code, then run the tests:"
   ]
  },
  {
   "cell_type": "code",
   "execution_count": null,
   "metadata": {},
   "outputs": [],
   "source": [
    "!pytest -vv src/predictor.py"
   ]
  },
  {
   "cell_type": "markdown",
   "metadata": {},
   "source": [
    "Allright, now we are ready to export our model using our Predictor class:"
   ]
  },
  {
   "cell_type": "code",
   "execution_count": null,
   "metadata": {},
   "outputs": [],
   "source": [
    "# NOTE: you might need to restart the notebook before running this step\n",
    "# If you get an error about RuntimeError: Can't redefine method: forward on class\n",
    "# restart your notebook then execute only this cell\n",
    "from src.predictor import Predictor\n",
    "from src.helpers import compute_mean_and_std\n",
    "from src.model import MyModel\n",
    "from src.data import get_data_loaders\n",
    "import torch\n",
    "\n",
    "data_loaders = get_data_loaders(batch_size=1)\n",
    "\n",
    "# First let's get the class names from our data loaders\n",
    "class_names = data_loaders[\"train\"].dataset.classes\n",
    "\n",
    "# Then let's move the model_transfer to the CPU\n",
    "# (we don't need GPU for inference)\n",
    "model = MyModel(num_classes=50, dropout=0.5).cpu()\n",
    "\n",
    "# Let's make sure we use the right weights by loading the\n",
    "# best weights we have found during training\n",
    "# NOTE: remember to use map_location='cpu' so the weights\n",
    "# are loaded on the CPU (and not the GPU)\n",
    "\n",
    "# YOUR CODE HERE\n",
    "\n",
    "# Let's wrap our model using the predictor class\n",
    "mean, std = compute_mean_and_std()\n",
    "predictor = Predictor(model, class_names, mean, std).cpu()\n",
    "\n",
    "# Export using torch.jit.script\n",
    "scripted_predictor = # YOUR CODE HERE\n",
    "\n",
    "scripted_predictor.save(\"checkpoints/original_exported.pt\")"
   ]
  },
  {
   "cell_type": "markdown",
   "metadata": {},
   "source": [
    "Now let's make sure the exported model has the same performance as the original one, by reloading it and testing it. The Predictor class takes different inputs than the non-wrapped model, so we have to use a specific test loop:"
   ]
  },
  {
   "cell_type": "code",
   "execution_count": null,
   "metadata": {},
   "outputs": [],
   "source": [
    "import torch\n",
    "\n",
    "# Load using torch.jit.load\n",
    "model_reloaded =  # YOUR CODE HERE"
   ]
  },
  {
   "cell_type": "code",
   "execution_count": null,
   "metadata": {},
   "outputs": [],
   "source": [
    "from src.predictor import predictor_test\n",
    "\n",
    "pred, truth = predictor_test(data_loaders['test'], model_reloaded)"
   ]
  },
  {
   "cell_type": "markdown",
   "metadata": {},
   "source": [
    "Finally, let's have a look at the confusion matrix of the model we are going to use in production:"
   ]
  },
  {
   "cell_type": "code",
   "execution_count": null,
   "metadata": {},
   "outputs": [],
   "source": [
    "from src.helpers import plot_confusion_matrix\n",
    "\n",
    "plot_confusion_matrix(pred, truth)"
   ]
  },
  {
   "cell_type": "code",
   "execution_count": null,
   "metadata": {},
   "outputs": [],
   "source": []
  }
 ],
 "metadata": {
  "kernelspec": {
   "display_name": "venv",
   "language": "python",
   "name": "venv"
  },
  "language_info": {
   "codemirror_mode": {
    "name": "ipython",
    "version": 3
   },
   "file_extension": ".py",
   "mimetype": "text/x-python",
   "name": "python",
   "nbconvert_exporter": "python",
   "pygments_lexer": "ipython3",
   "version": "3.11.9"
  },
  "widgets": {
   "application/vnd.jupyter.widget-state+json": {
    "state": {},
    "version_major": 2,
    "version_minor": 0
   }
  }
 },
 "nbformat": 4,
 "nbformat_minor": 4
}
